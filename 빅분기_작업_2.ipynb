{
  "nbformat": 4,
  "nbformat_minor": 0,
  "metadata": {
    "colab": {
      "name": "빅분기_작업_2.ipynb",
      "provenance": [],
      "authorship_tag": "ABX9TyN/mDndGwAzgBqgatMGp9eF",
      "include_colab_link": true
    },
    "kernelspec": {
      "name": "python3",
      "display_name": "Python 3"
    },
    "language_info": {
      "name": "python"
    }
  },
  "cells": [
    {
      "cell_type": "markdown",
      "metadata": {
        "id": "view-in-github",
        "colab_type": "text"
      },
      "source": [
        "<a href=\"https://colab.research.google.com/github/HeewonKwak/Bigdata/blob/main/%EB%B9%85%EB%B6%84%EA%B8%B0_%EC%9E%91%EC%97%85_2.ipynb\" target=\"_parent\"><img src=\"https://colab.research.google.com/assets/colab-badge.svg\" alt=\"Open In Colab\"/></a>"
      ]
    },
    {
      "cell_type": "code",
      "metadata": {
        "id": "oFHiIc0jVlZJ"
      },
      "source": [
        "# 출력을 원하실 경우 print() 함수 활용\n",
        "# 예시) print(df.head())\n",
        "\n",
        "# getcwd(), chdir() 등 작업 폴더 설정 불필요\n",
        "# 파일 경로 상 내부 드라이브 경로(C: 등) 접근 불가\n",
        "\n",
        "# 데이터 파일 읽기 예제\n",
        "import pandas as pd\n",
        "X_test = pd.read_csv(\"data/X_test.csv\")\n",
        "X_train = pd.read_csv(\"data/X_train.csv\")\n",
        "y_train = pd.read_csv(\"data/y_train.csv\")\n",
        "y = y_train['gender']\n",
        "\n",
        "# 사용자 코딩\n",
        "# print(X_train.info())\n",
        "drop_col = ['cust_id', '환불금액']\n",
        "X_train_drop = X_train.drop(columns = drop_col)\n",
        "X_test_drop = X_test.drop(columns = drop_col)\n",
        "\n",
        "from sklearn.preprocessing import LabelEncoder\n",
        "le = LabelEncoder()\n",
        "le.fit(X_train_drop['주구매상품'])\n",
        "X_train_drop['주구매상품'] = le.transform(X_train_drop['주구매상품'])\n",
        "X_test_drop['주구매상품'] = le.transform(X_test_drop['주구매상품'])\n",
        "\n",
        "le1 = LabelEncoder()\n",
        "le1.fit(X_train_drop['주구매지점'])\n",
        "X_train_drop['주구매지점'] = le1.transform(X_train_drop['주구매지점'])\n",
        "X_test_drop['주구매지점'] = le1.transform(X_test_drop['주구매지점'])\n",
        "\n",
        "# print(X_train_drop.head())\n",
        "\n",
        "from sklearn.model_selection import train_test_split\n",
        "\n",
        "# print(help(train_test_split))\n",
        "Xtrain, Xtest, ytrain, ytest = train_test_split(X_train_drop, y, test_size=0.33, random_state=42, stratify = y)\n",
        "\n",
        "from sklearn.ensemble import RandomForestClassifier\n",
        "# print(help(RandomForestClassifier))\n",
        "rf = RandomForestClassifier()\n",
        "rf.fit(Xtrain, ytrain)\n",
        "\n",
        "# print(dir(RandomForestClassifier))\n",
        "\n",
        "pred = rf.predict_proba(Xtest)[:,1]\n",
        "# print(pred)\n",
        "\n",
        "from sklearn.metrics import roc_auc_score\n",
        "# print(roc_auc_score(ytest, pred))\n",
        "\n",
        "sub_cust_id = X_test['cust_id']\n",
        "sub_pred = pd.DataFrame(rf.predict_proba(X_test_drop)[:,1])\n",
        "\n",
        "sub = pd.concat([sub_cust_id, sub_pred], axis=1)\n",
        "sub.columns = ['cust_id', 'gender']\n",
        "# print(sub)\n",
        "sub.to_csv('003000000.csv', index=False)\n",
        "\n",
        "df = pd.read_csv('003000000.csv')\n",
        "print(df)\n",
        "\n",
        "# 답안 제출 참고\n",
        "# 아래 코드 예측변수와 수험번호를 개인별로 변경하여 활용\n",
        "# pd.DataFrame({'cust_id': X_test.cust_id, 'gender': pred}).to_csv('003000000.csv', index=False)\n"
      ],
      "execution_count": null,
      "outputs": []
    },
    {
      "cell_type": "code",
      "metadata": {
        "id": "qssD3FrhpJDy"
      },
      "source": [
        "import pandas as pd\n",
        "\n",
        "xtrain = pd.read_csv('data/X_train.csv')\n",
        "xtest = pd.read_csv('data/X_test.csv')\n",
        "ytrain = pd.read_csv('data/y_train.csv')\n",
        "y = ytrain['gender']\n",
        "\n",
        "# print(xtrain.shape, xtest.shape)\n",
        "\n",
        "del_col = ['cust_id', '환불금액']\n",
        "xtrain_drop = xtrain.drop(columns = del_col)\n",
        "xtest_drop = xtest.drop(columns = del_col)\n",
        "\n",
        "# print(xtrain_drop, xtest_drop)\n",
        "# print(xtrain_drop.shape, xtest_drop.shape)\n",
        "\n",
        "from sklearn.preprocessing import LabelEncoder\n",
        "\n",
        "# print(help(LabelEncoder))\n",
        "\n",
        "lb = LabelEncoder()\n",
        "lb.fit(xtrain_drop['주구매상품'])\n",
        "xtrain_drop['주구매상품'] = lb.transform(xtrain_drop['주구매상품'])\n",
        "xtest_drop['주구매상품'] = lb.transform(xtest_drop['주구매상품'])\n",
        "\n",
        "lb2 = LabelEncoder()\n",
        "lb2.fit(xtrain_drop['주구매지점'])\n",
        "xtrain_drop['주구매지점'] = lb2.transform(xtrain_drop['주구매지점'])\n",
        "xtest_drop['주구매지점'] = lb2.transform(xtest_drop['주구매지점'])\n",
        "\n",
        "# print(xtrain_drop, xtest_drop)\n",
        "# print(xtrain_drop.shape, xtest_drop.shape)\n",
        "\n",
        "from sklearn.model_selection import train_test_split\n",
        "# import sklearn\n",
        "# print(help(sklearn))\n",
        "# print(help(train_test_split))\n",
        "X_train, X_test, y_train, y_test = train_test_split(xtrain_drop, y, test_size=0.33, random_state=42, stratify=y)\n",
        "# print(X_train.shape, X_test.shape, y_train.shape, y_test.shape,)\n",
        "\n",
        "from sklearn.ensemble import RandomForestClassifier\n",
        "\n",
        "rf = RandomForestClassifier()\n",
        "rf.fit(X_train, y_train)\n",
        "# print(dir(RandomForestClassifier))\n",
        "pred = rf.predict_proba(X_test)[:,1]\n",
        "# print(pred)\n",
        "\n",
        "from sklearn.metrics import roc_auc_score\n",
        "\n",
        "# print(roc_auc_score(y_test, pred))\n",
        "\n",
        "sub_cust_id = xtest['cust_id']\n",
        "sub_pred = pd.DataFrame(rf.predict_proba(xtest_drop)[:,1])\n",
        "sub = pd.concat([sub_cust_id, sub_pred], axis=1)\n",
        "sub.columns = ['cust_id', 'gender']\n",
        "sub.to_csv('000000000.csv', index=False)\n",
        "\n",
        "df = pd.read_csv('000000000.csv')\n",
        "print(df)\n",
        "\n",
        "# lb1.transform()"
      ],
      "execution_count": null,
      "outputs": []
    },
    {
      "cell_type": "code",
      "metadata": {
        "id": "NLhYdsr84Fzu"
      },
      "source": [
        ""
      ],
      "execution_count": null,
      "outputs": []
    },
    {
      "cell_type": "code",
      "metadata": {
        "id": "x8fh7X714Fsf"
      },
      "source": [
        "import pandas as pd\n",
        "#데이터 로드\n",
        "df = pd.read_csv(\"https://raw.githubusercontent.com/Datamanim/datarepo/main/churn/train.csv\")"
      ],
      "execution_count": 1,
      "outputs": []
    },
    {
      "cell_type": "code",
      "metadata": {
        "colab": {
          "base_uri": "https://localhost:8080/",
          "height": 226
        },
        "id": "K_WIc6Wi4Ho3",
        "outputId": "70f58717-6c91-47ec-bb35-9f883ad3c79a"
      },
      "source": [
        "df.head()"
      ],
      "execution_count": 2,
      "outputs": [
        {
          "output_type": "execute_result",
          "data": {
            "text/html": [
              "<div>\n",
              "<style scoped>\n",
              "    .dataframe tbody tr th:only-of-type {\n",
              "        vertical-align: middle;\n",
              "    }\n",
              "\n",
              "    .dataframe tbody tr th {\n",
              "        vertical-align: top;\n",
              "    }\n",
              "\n",
              "    .dataframe thead th {\n",
              "        text-align: right;\n",
              "    }\n",
              "</style>\n",
              "<table border=\"1\" class=\"dataframe\">\n",
              "  <thead>\n",
              "    <tr style=\"text-align: right;\">\n",
              "      <th></th>\n",
              "      <th>RowNumber</th>\n",
              "      <th>CustomerId</th>\n",
              "      <th>Surname</th>\n",
              "      <th>CreditScore</th>\n",
              "      <th>Geography</th>\n",
              "      <th>Gender</th>\n",
              "      <th>Age</th>\n",
              "      <th>Tenure</th>\n",
              "      <th>Balance</th>\n",
              "      <th>NumOfProducts</th>\n",
              "      <th>HasCrCard</th>\n",
              "      <th>IsActiveMember</th>\n",
              "      <th>EstimatedSalary</th>\n",
              "      <th>Exited</th>\n",
              "    </tr>\n",
              "  </thead>\n",
              "  <tbody>\n",
              "    <tr>\n",
              "      <th>0</th>\n",
              "      <td>6842</td>\n",
              "      <td>15793491</td>\n",
              "      <td>Cherkasova</td>\n",
              "      <td>714</td>\n",
              "      <td>Germany</td>\n",
              "      <td>Male</td>\n",
              "      <td>26</td>\n",
              "      <td>3</td>\n",
              "      <td>119545.48</td>\n",
              "      <td>2</td>\n",
              "      <td>1</td>\n",
              "      <td>0</td>\n",
              "      <td>65482.94</td>\n",
              "      <td>0</td>\n",
              "    </tr>\n",
              "    <tr>\n",
              "      <th>1</th>\n",
              "      <td>8963</td>\n",
              "      <td>15607874</td>\n",
              "      <td>Keane</td>\n",
              "      <td>687</td>\n",
              "      <td>France</td>\n",
              "      <td>Male</td>\n",
              "      <td>38</td>\n",
              "      <td>0</td>\n",
              "      <td>144450.58</td>\n",
              "      <td>1</td>\n",
              "      <td>0</td>\n",
              "      <td>1</td>\n",
              "      <td>137276.83</td>\n",
              "      <td>0</td>\n",
              "    </tr>\n",
              "    <tr>\n",
              "      <th>2</th>\n",
              "      <td>7047</td>\n",
              "      <td>15737627</td>\n",
              "      <td>Rivero</td>\n",
              "      <td>589</td>\n",
              "      <td>Germany</td>\n",
              "      <td>Female</td>\n",
              "      <td>20</td>\n",
              "      <td>2</td>\n",
              "      <td>121093.29</td>\n",
              "      <td>2</td>\n",
              "      <td>1</td>\n",
              "      <td>0</td>\n",
              "      <td>3529.72</td>\n",
              "      <td>0</td>\n",
              "    </tr>\n",
              "    <tr>\n",
              "      <th>3</th>\n",
              "      <td>7503</td>\n",
              "      <td>15697844</td>\n",
              "      <td>Whitehouse</td>\n",
              "      <td>721</td>\n",
              "      <td>Spain</td>\n",
              "      <td>Female</td>\n",
              "      <td>32</td>\n",
              "      <td>10</td>\n",
              "      <td>0.00</td>\n",
              "      <td>1</td>\n",
              "      <td>1</td>\n",
              "      <td>0</td>\n",
              "      <td>136119.96</td>\n",
              "      <td>1</td>\n",
              "    </tr>\n",
              "    <tr>\n",
              "      <th>4</th>\n",
              "      <td>3439</td>\n",
              "      <td>15722404</td>\n",
              "      <td>Carpenter</td>\n",
              "      <td>445</td>\n",
              "      <td>France</td>\n",
              "      <td>Female</td>\n",
              "      <td>30</td>\n",
              "      <td>3</td>\n",
              "      <td>0.00</td>\n",
              "      <td>2</td>\n",
              "      <td>1</td>\n",
              "      <td>1</td>\n",
              "      <td>127939.19</td>\n",
              "      <td>0</td>\n",
              "    </tr>\n",
              "  </tbody>\n",
              "</table>\n",
              "</div>"
            ],
            "text/plain": [
              "   RowNumber  CustomerId     Surname  ...  IsActiveMember EstimatedSalary Exited\n",
              "0       6842    15793491  Cherkasova  ...               0        65482.94      0\n",
              "1       8963    15607874       Keane  ...               1       137276.83      0\n",
              "2       7047    15737627      Rivero  ...               0         3529.72      0\n",
              "3       7503    15697844  Whitehouse  ...               0       136119.96      1\n",
              "4       3439    15722404   Carpenter  ...               1       127939.19      0\n",
              "\n",
              "[5 rows x 14 columns]"
            ]
          },
          "metadata": {},
          "execution_count": 2
        }
      ]
    },
    {
      "cell_type": "code",
      "metadata": {
        "colab": {
          "base_uri": "https://localhost:8080/"
        },
        "id": "8fvNA2i14LTR",
        "outputId": "e0044687-0c87-437c-e110-4a69ff18ac1f"
      },
      "source": [
        "ex_max = df.Exited.max()\n",
        "geo = df.loc[(df.Exited == ex_max) & (df.Gender == 'Male')].Geography.value_counts()\n",
        "# num = df.loc[df.Exited == ex_max].Exited\n",
        "print(geo.iloc[0])"
      ],
      "execution_count": 15,
      "outputs": [
        {
          "output_type": "stream",
          "name": "stdout",
          "text": [
            "287\n"
          ]
        }
      ]
    },
    {
      "cell_type": "code",
      "metadata": {
        "colab": {
          "base_uri": "https://localhost:8080/"
        },
        "id": "ScLx3g8Y48A5",
        "outputId": "8ae7de07-b34d-4586-d767-56e9fb3ceaa9"
      },
      "source": [
        "df.loc[(df.HasCrCard == 1) & (df.IsActiveMember == 1)].Age.mean()"
      ],
      "execution_count": 16,
      "outputs": [
        {
          "output_type": "execute_result",
          "data": {
            "text/plain": [
              "39.61019283746556"
            ]
          },
          "metadata": {},
          "execution_count": 16
        }
      ]
    },
    {
      "cell_type": "code",
      "metadata": {
        "colab": {
          "base_uri": "https://localhost:8080/"
        },
        "id": "jT9OZaCq6SRv",
        "outputId": "9f8af1ee-c0cc-49dd-d43d-0b3605a639c0"
      },
      "source": [
        "med = df.Balance.median()\n",
        "df.loc[df.Balance >= med].CreditScore.std()"
      ],
      "execution_count": 18,
      "outputs": [
        {
          "output_type": "execute_result",
          "data": {
            "text/plain": [
              "97.29451567120783"
            ]
          },
          "metadata": {},
          "execution_count": 18
        }
      ]
    },
    {
      "cell_type": "code",
      "metadata": {
        "id": "EsQRAUpf7Fuw"
      },
      "source": [
        "import pandas as pd\n",
        "df = pd.read_csv(\"https://raw.githubusercontent.com/Datamanim/datarepo/main/smoke/train.csv\")"
      ],
      "execution_count": 20,
      "outputs": []
    },
    {
      "cell_type": "code",
      "metadata": {
        "colab": {
          "base_uri": "https://localhost:8080/",
          "height": 365
        },
        "id": "IQK3lHWi7Wpj",
        "outputId": "6d5edf16-5a96-4df2-8a6a-13ede84009ef"
      },
      "source": [
        "df.head()"
      ],
      "execution_count": 21,
      "outputs": [
        {
          "output_type": "execute_result",
          "data": {
            "text/html": [
              "<div>\n",
              "<style scoped>\n",
              "    .dataframe tbody tr th:only-of-type {\n",
              "        vertical-align: middle;\n",
              "    }\n",
              "\n",
              "    .dataframe tbody tr th {\n",
              "        vertical-align: top;\n",
              "    }\n",
              "\n",
              "    .dataframe thead th {\n",
              "        text-align: right;\n",
              "    }\n",
              "</style>\n",
              "<table border=\"1\" class=\"dataframe\">\n",
              "  <thead>\n",
              "    <tr style=\"text-align: right;\">\n",
              "      <th></th>\n",
              "      <th>성별코드</th>\n",
              "      <th>연령대코드(5세단위)</th>\n",
              "      <th>신장(5Cm단위)</th>\n",
              "      <th>체중(5Kg단위)</th>\n",
              "      <th>허리둘레</th>\n",
              "      <th>시력(좌)</th>\n",
              "      <th>시력(우)</th>\n",
              "      <th>청력(좌)</th>\n",
              "      <th>청력(우)</th>\n",
              "      <th>수축기혈압</th>\n",
              "      <th>이완기혈압</th>\n",
              "      <th>식전혈당(공복혈당)</th>\n",
              "      <th>총콜레스테롤</th>\n",
              "      <th>트리글리세라이드</th>\n",
              "      <th>HDL콜레스테롤</th>\n",
              "      <th>LDL콜레스테롤</th>\n",
              "      <th>혈색소</th>\n",
              "      <th>요단백</th>\n",
              "      <th>혈청크레아티닌</th>\n",
              "      <th>(혈청지오티)AST</th>\n",
              "      <th>(혈청지오티)ALT</th>\n",
              "      <th>감마지티피</th>\n",
              "      <th>흡연상태</th>\n",
              "      <th>구강검진수검여부</th>\n",
              "      <th>치아우식증유무</th>\n",
              "      <th>치석</th>\n",
              "    </tr>\n",
              "  </thead>\n",
              "  <tbody>\n",
              "    <tr>\n",
              "      <th>0</th>\n",
              "      <td>F</td>\n",
              "      <td>55</td>\n",
              "      <td>145</td>\n",
              "      <td>55</td>\n",
              "      <td>73.0</td>\n",
              "      <td>0.7</td>\n",
              "      <td>0.5</td>\n",
              "      <td>1.0</td>\n",
              "      <td>1.0</td>\n",
              "      <td>129.0</td>\n",
              "      <td>84.0</td>\n",
              "      <td>93.0</td>\n",
              "      <td>185.0</td>\n",
              "      <td>50.0</td>\n",
              "      <td>98.0</td>\n",
              "      <td>77.0</td>\n",
              "      <td>12.9</td>\n",
              "      <td>1.0</td>\n",
              "      <td>0.9</td>\n",
              "      <td>172.0</td>\n",
              "      <td>209.0</td>\n",
              "      <td>15.0</td>\n",
              "      <td>0</td>\n",
              "      <td>Y</td>\n",
              "      <td>0.0</td>\n",
              "      <td>Y</td>\n",
              "    </tr>\n",
              "    <tr>\n",
              "      <th>1</th>\n",
              "      <td>M</td>\n",
              "      <td>40</td>\n",
              "      <td>180</td>\n",
              "      <td>55</td>\n",
              "      <td>74.0</td>\n",
              "      <td>1.5</td>\n",
              "      <td>1.5</td>\n",
              "      <td>1.0</td>\n",
              "      <td>1.0</td>\n",
              "      <td>102.0</td>\n",
              "      <td>70.0</td>\n",
              "      <td>95.0</td>\n",
              "      <td>176.0</td>\n",
              "      <td>60.0</td>\n",
              "      <td>53.0</td>\n",
              "      <td>111.0</td>\n",
              "      <td>15.6</td>\n",
              "      <td>1.0</td>\n",
              "      <td>0.8</td>\n",
              "      <td>30.0</td>\n",
              "      <td>19.0</td>\n",
              "      <td>23.0</td>\n",
              "      <td>1</td>\n",
              "      <td>Y</td>\n",
              "      <td>0.0</td>\n",
              "      <td>Y</td>\n",
              "    </tr>\n",
              "    <tr>\n",
              "      <th>2</th>\n",
              "      <td>F</td>\n",
              "      <td>55</td>\n",
              "      <td>150</td>\n",
              "      <td>50</td>\n",
              "      <td>72.0</td>\n",
              "      <td>1.0</td>\n",
              "      <td>0.2</td>\n",
              "      <td>1.0</td>\n",
              "      <td>1.0</td>\n",
              "      <td>116.0</td>\n",
              "      <td>72.0</td>\n",
              "      <td>86.0</td>\n",
              "      <td>168.0</td>\n",
              "      <td>49.0</td>\n",
              "      <td>53.0</td>\n",
              "      <td>105.0</td>\n",
              "      <td>14.1</td>\n",
              "      <td>1.0</td>\n",
              "      <td>1.0</td>\n",
              "      <td>31.0</td>\n",
              "      <td>19.0</td>\n",
              "      <td>10.0</td>\n",
              "      <td>0</td>\n",
              "      <td>Y</td>\n",
              "      <td>0.0</td>\n",
              "      <td>N</td>\n",
              "    </tr>\n",
              "    <tr>\n",
              "      <th>3</th>\n",
              "      <td>M</td>\n",
              "      <td>40</td>\n",
              "      <td>170</td>\n",
              "      <td>85</td>\n",
              "      <td>89.0</td>\n",
              "      <td>1.0</td>\n",
              "      <td>0.8</td>\n",
              "      <td>1.0</td>\n",
              "      <td>1.0</td>\n",
              "      <td>124.0</td>\n",
              "      <td>80.0</td>\n",
              "      <td>96.0</td>\n",
              "      <td>231.0</td>\n",
              "      <td>240.0</td>\n",
              "      <td>54.0</td>\n",
              "      <td>129.0</td>\n",
              "      <td>16.7</td>\n",
              "      <td>1.0</td>\n",
              "      <td>1.0</td>\n",
              "      <td>26.0</td>\n",
              "      <td>38.0</td>\n",
              "      <td>108.0</td>\n",
              "      <td>1</td>\n",
              "      <td>Y</td>\n",
              "      <td>1.0</td>\n",
              "      <td>Y</td>\n",
              "    </tr>\n",
              "    <tr>\n",
              "      <th>4</th>\n",
              "      <td>F</td>\n",
              "      <td>40</td>\n",
              "      <td>155</td>\n",
              "      <td>45</td>\n",
              "      <td>62.0</td>\n",
              "      <td>0.5</td>\n",
              "      <td>1.0</td>\n",
              "      <td>1.0</td>\n",
              "      <td>1.0</td>\n",
              "      <td>127.0</td>\n",
              "      <td>85.0</td>\n",
              "      <td>93.0</td>\n",
              "      <td>261.0</td>\n",
              "      <td>94.0</td>\n",
              "      <td>71.0</td>\n",
              "      <td>171.0</td>\n",
              "      <td>12.9</td>\n",
              "      <td>1.0</td>\n",
              "      <td>0.7</td>\n",
              "      <td>20.0</td>\n",
              "      <td>11.0</td>\n",
              "      <td>13.0</td>\n",
              "      <td>0</td>\n",
              "      <td>Y</td>\n",
              "      <td>0.0</td>\n",
              "      <td>N</td>\n",
              "    </tr>\n",
              "  </tbody>\n",
              "</table>\n",
              "</div>"
            ],
            "text/plain": [
              "  성별코드  연령대코드(5세단위)  신장(5Cm단위)  체중(5Kg단위)  ...  흡연상태  구강검진수검여부  치아우식증유무  치석\n",
              "0    F           55        145         55  ...     0         Y      0.0   Y\n",
              "1    M           40        180         55  ...     1         Y      0.0   Y\n",
              "2    F           55        150         50  ...     0         Y      0.0   N\n",
              "3    M           40        170         85  ...     1         Y      1.0   Y\n",
              "4    F           40        155         45  ...     0         Y      0.0   N\n",
              "\n",
              "[5 rows x 26 columns]"
            ]
          },
          "metadata": {},
          "execution_count": 21
        }
      ]
    },
    {
      "cell_type": "code",
      "metadata": {
        "colab": {
          "base_uri": "https://localhost:8080/"
        },
        "id": "QqK8cQ-G7YzC",
        "outputId": "de9e6c33-0861-490c-c7f3-7eea58645d74"
      },
      "source": [
        "df['혈압차'] = df['수축기혈압'] - df['이완기혈압']\n",
        "df.groupby('연령대코드(5세단위)')['혈압차'].var().sort_values()"
      ],
      "execution_count": 22,
      "outputs": [
        {
          "output_type": "execute_result",
          "data": {
            "text/plain": [
              "연령대코드(5세단위)\n",
              "35     60.757553\n",
              "30     61.990014\n",
              "20     66.555720\n",
              "40     67.285468\n",
              "25     68.794878\n",
              "50     71.207529\n",
              "45     71.445083\n",
              "55     79.294182\n",
              "85     86.263736\n",
              "60     94.386922\n",
              "65     99.635384\n",
              "75    115.471623\n",
              "70    115.999711\n",
              "80    154.537248\n",
              "Name: 혈압차, dtype: float64"
            ]
          },
          "metadata": {},
          "execution_count": 22
        }
      ]
    },
    {
      "cell_type": "code",
      "metadata": {
        "id": "GcjXYOeS_m4N"
      },
      "source": [
        "df['비만도'] = df['허리둘레'] / df['신장(5Cm단위)']\n",
        "test = df.loc[df['비만도'] >= 0.58].성별코드.value_counts()"
      ],
      "execution_count": 29,
      "outputs": []
    },
    {
      "cell_type": "code",
      "metadata": {
        "colab": {
          "base_uri": "https://localhost:8080/"
        },
        "id": "dSxQcyt4AYq0",
        "outputId": "e6226864-f6fd-4f1d-c67e-75c73dcfddea"
      },
      "source": [
        "test[0]/test[1]"
      ],
      "execution_count": 34,
      "outputs": [
        {
          "output_type": "execute_result",
          "data": {
            "text/plain": [
              "1.1693877551020408"
            ]
          },
          "metadata": {},
          "execution_count": 34
        }
      ]
    },
    {
      "cell_type": "code",
      "metadata": {
        "id": "BDkfzstbAqsp"
      },
      "source": [
        "import pandas as pd\n",
        "df = pd.read_csv(\"https://raw.githubusercontent.com/Datamanim/datarepo/main/insurance/train.csv\")"
      ],
      "execution_count": 35,
      "outputs": []
    },
    {
      "cell_type": "code",
      "metadata": {
        "colab": {
          "base_uri": "https://localhost:8080/",
          "height": 226
        },
        "id": "J6v17AifBEIQ",
        "outputId": "8ea9de49-fcde-4abf-a7f3-85323e901040"
      },
      "source": [
        "df.head()"
      ],
      "execution_count": 36,
      "outputs": [
        {
          "output_type": "execute_result",
          "data": {
            "text/html": [
              "<div>\n",
              "<style scoped>\n",
              "    .dataframe tbody tr th:only-of-type {\n",
              "        vertical-align: middle;\n",
              "    }\n",
              "\n",
              "    .dataframe tbody tr th {\n",
              "        vertical-align: top;\n",
              "    }\n",
              "\n",
              "    .dataframe thead th {\n",
              "        text-align: right;\n",
              "    }\n",
              "</style>\n",
              "<table border=\"1\" class=\"dataframe\">\n",
              "  <thead>\n",
              "    <tr style=\"text-align: right;\">\n",
              "      <th></th>\n",
              "      <th>id</th>\n",
              "      <th>Gender</th>\n",
              "      <th>Age</th>\n",
              "      <th>Driving_License</th>\n",
              "      <th>Region_Code</th>\n",
              "      <th>Previously_Insured</th>\n",
              "      <th>Vehicle_Age</th>\n",
              "      <th>Vehicle_Damage</th>\n",
              "      <th>Annual_Premium</th>\n",
              "      <th>Policy_Sales_Channel</th>\n",
              "      <th>Vintage</th>\n",
              "      <th>Response</th>\n",
              "    </tr>\n",
              "  </thead>\n",
              "  <tbody>\n",
              "    <tr>\n",
              "      <th>0</th>\n",
              "      <td>188957</td>\n",
              "      <td>Female</td>\n",
              "      <td>25</td>\n",
              "      <td>1</td>\n",
              "      <td>17.0</td>\n",
              "      <td>1</td>\n",
              "      <td>&lt; 1 Year</td>\n",
              "      <td>No</td>\n",
              "      <td>38785.0</td>\n",
              "      <td>152.0</td>\n",
              "      <td>59</td>\n",
              "      <td>0</td>\n",
              "    </tr>\n",
              "    <tr>\n",
              "      <th>1</th>\n",
              "      <td>275631</td>\n",
              "      <td>Male</td>\n",
              "      <td>20</td>\n",
              "      <td>1</td>\n",
              "      <td>22.0</td>\n",
              "      <td>0</td>\n",
              "      <td>&lt; 1 Year</td>\n",
              "      <td>No</td>\n",
              "      <td>2630.0</td>\n",
              "      <td>160.0</td>\n",
              "      <td>113</td>\n",
              "      <td>0</td>\n",
              "    </tr>\n",
              "    <tr>\n",
              "      <th>2</th>\n",
              "      <td>329036</td>\n",
              "      <td>Female</td>\n",
              "      <td>40</td>\n",
              "      <td>1</td>\n",
              "      <td>41.0</td>\n",
              "      <td>0</td>\n",
              "      <td>1-2 Year</td>\n",
              "      <td>Yes</td>\n",
              "      <td>33165.0</td>\n",
              "      <td>124.0</td>\n",
              "      <td>188</td>\n",
              "      <td>0</td>\n",
              "    </tr>\n",
              "    <tr>\n",
              "      <th>3</th>\n",
              "      <td>227288</td>\n",
              "      <td>Female</td>\n",
              "      <td>28</td>\n",
              "      <td>1</td>\n",
              "      <td>30.0</td>\n",
              "      <td>1</td>\n",
              "      <td>&lt; 1 Year</td>\n",
              "      <td>No</td>\n",
              "      <td>29038.0</td>\n",
              "      <td>152.0</td>\n",
              "      <td>233</td>\n",
              "      <td>0</td>\n",
              "    </tr>\n",
              "    <tr>\n",
              "      <th>4</th>\n",
              "      <td>300441</td>\n",
              "      <td>Female</td>\n",
              "      <td>50</td>\n",
              "      <td>1</td>\n",
              "      <td>28.0</td>\n",
              "      <td>0</td>\n",
              "      <td>1-2 Year</td>\n",
              "      <td>Yes</td>\n",
              "      <td>31325.0</td>\n",
              "      <td>124.0</td>\n",
              "      <td>258</td>\n",
              "      <td>0</td>\n",
              "    </tr>\n",
              "  </tbody>\n",
              "</table>\n",
              "</div>"
            ],
            "text/plain": [
              "       id  Gender  Age  ...  Policy_Sales_Channel  Vintage  Response\n",
              "0  188957  Female   25  ...                 152.0       59         0\n",
              "1  275631    Male   20  ...                 160.0      113         0\n",
              "2  329036  Female   40  ...                 124.0      188         0\n",
              "3  227288  Female   28  ...                 152.0      233         0\n",
              "4  300441  Female   50  ...                 124.0      258         0\n",
              "\n",
              "[5 rows x 12 columns]"
            ]
          },
          "metadata": {},
          "execution_count": 36
        }
      ]
    },
    {
      "cell_type": "code",
      "metadata": {
        "colab": {
          "base_uri": "https://localhost:8080/"
        },
        "id": "4T1H8ZskBX69",
        "outputId": "2ccb0318-45f4-426c-efdc-a7c82453c0d4"
      },
      "source": [
        "df.Vehicle_Age.unique()"
      ],
      "execution_count": 38,
      "outputs": [
        {
          "output_type": "execute_result",
          "data": {
            "text/plain": [
              "array(['< 1 Year', '1-2 Year', '> 2 Years'], dtype=object)"
            ]
          },
          "metadata": {},
          "execution_count": 38
        }
      ]
    },
    {
      "cell_type": "code",
      "metadata": {
        "colab": {
          "base_uri": "https://localhost:8080/"
        },
        "id": "swCS2sMjBMlr",
        "outputId": "89e09aac-7717-4a4c-f04d-0a55870e0b7b"
      },
      "source": [
        "tes = df.loc[df.Vehicle_Age == '> 2 Years']\n",
        "med = df.Annual_Premium.median()\n",
        "tes.loc[tes.Annual_Premium >= med].Vintage.mean()"
      ],
      "execution_count": 39,
      "outputs": [
        {
          "output_type": "execute_result",
          "data": {
            "text/plain": [
              "154.43647182359118"
            ]
          },
          "metadata": {},
          "execution_count": 39
        }
      ]
    },
    {
      "cell_type": "code",
      "metadata": {
        "colab": {
          "base_uri": "https://localhost:8080/"
        },
        "id": "V_CL_ZI_B2O4",
        "outputId": "299dd8b8-1754-4c64-a8eb-fc7bae5c7507"
      },
      "source": [
        "tes1 = df.groupby('Vehicle_Age')['Gender', 'Annual_Premium']\n",
        "print(tes1)"
      ],
      "execution_count": 43,
      "outputs": [
        {
          "output_type": "stream",
          "name": "stdout",
          "text": [
            "<pandas.core.groupby.generic.DataFrameGroupBy object at 0x7fed4b41bf10>\n"
          ]
        },
        {
          "output_type": "stream",
          "name": "stderr",
          "text": [
            "/usr/local/lib/python3.7/dist-packages/ipykernel_launcher.py:1: FutureWarning: Indexing with multiple keys (implicitly converted to a tuple of keys) will be deprecated, use a list instead.\n",
            "  \"\"\"Entry point for launching an IPython kernel.\n"
          ]
        }
      ]
    },
    {
      "cell_type": "code",
      "metadata": {
        "colab": {
          "base_uri": "https://localhost:8080/"
        },
        "id": "QMmFHVxjCO49",
        "outputId": "2f2b5e26-3b9d-48a6-8eb8-1aa6c4261127"
      },
      "source": [
        "tes1 = df.groupby('Gender')['Vehicle_Age']\n",
        "print(tes1)"
      ],
      "execution_count": 42,
      "outputs": [
        {
          "output_type": "stream",
          "name": "stdout",
          "text": [
            "<pandas.core.groupby.generic.SeriesGroupBy object at 0x7fed4a6b5510>\n"
          ]
        }
      ]
    },
    {
      "cell_type": "code",
      "metadata": {
        "id": "s10uSLKLCV8Z"
      },
      "source": [
        "tes1 = df.groupby(['Gender', 'Vehicle_Age'], as_index=False)['Annual_Premium'].mean()"
      ],
      "execution_count": 48,
      "outputs": []
    },
    {
      "cell_type": "code",
      "metadata": {
        "colab": {
          "base_uri": "https://localhost:8080/",
          "height": 174
        },
        "id": "-zob3ZwbFzFw",
        "outputId": "52b1f006-0bdd-4b6a-94a5-c4d21a3a210d"
      },
      "source": [
        "tes1.pivot(index='Vehicle_Age', columns='Gender', values='Annual_Premium')"
      ],
      "execution_count": 50,
      "outputs": [
        {
          "output_type": "execute_result",
          "data": {
            "text/html": [
              "<div>\n",
              "<style scoped>\n",
              "    .dataframe tbody tr th:only-of-type {\n",
              "        vertical-align: middle;\n",
              "    }\n",
              "\n",
              "    .dataframe tbody tr th {\n",
              "        vertical-align: top;\n",
              "    }\n",
              "\n",
              "    .dataframe thead th {\n",
              "        text-align: right;\n",
              "    }\n",
              "</style>\n",
              "<table border=\"1\" class=\"dataframe\">\n",
              "  <thead>\n",
              "    <tr style=\"text-align: right;\">\n",
              "      <th>Gender</th>\n",
              "      <th>Female</th>\n",
              "      <th>Male</th>\n",
              "    </tr>\n",
              "    <tr>\n",
              "      <th>Vehicle_Age</th>\n",
              "      <th></th>\n",
              "      <th></th>\n",
              "    </tr>\n",
              "  </thead>\n",
              "  <tbody>\n",
              "    <tr>\n",
              "      <th>1-2 Year</th>\n",
              "      <td>30762.245001</td>\n",
              "      <td>30413.088469</td>\n",
              "    </tr>\n",
              "    <tr>\n",
              "      <th>&lt; 1 Year</th>\n",
              "      <td>29972.286702</td>\n",
              "      <td>30310.982212</td>\n",
              "    </tr>\n",
              "    <tr>\n",
              "      <th>&gt; 2 Years</th>\n",
              "      <td>36108.366374</td>\n",
              "      <td>35303.870627</td>\n",
              "    </tr>\n",
              "  </tbody>\n",
              "</table>\n",
              "</div>"
            ],
            "text/plain": [
              "Gender             Female          Male\n",
              "Vehicle_Age                            \n",
              "1-2 Year     30762.245001  30413.088469\n",
              "< 1 Year     29972.286702  30310.982212\n",
              "> 2 Years    36108.366374  35303.870627"
            ]
          },
          "metadata": {},
          "execution_count": 50
        }
      ]
    },
    {
      "cell_type": "code",
      "metadata": {
        "colab": {
          "base_uri": "https://localhost:8080/",
          "height": 174
        },
        "id": "kZpvgCGgF0Ci",
        "outputId": "2e71652b-1ee1-451b-a442-54cee88eb634"
      },
      "source": [
        "df.groupby(['Gender','Vehicle_Age'])['Annual_Premium'].mean().unstack(0)"
      ],
      "execution_count": 51,
      "outputs": [
        {
          "output_type": "execute_result",
          "data": {
            "text/html": [
              "<div>\n",
              "<style scoped>\n",
              "    .dataframe tbody tr th:only-of-type {\n",
              "        vertical-align: middle;\n",
              "    }\n",
              "\n",
              "    .dataframe tbody tr th {\n",
              "        vertical-align: top;\n",
              "    }\n",
              "\n",
              "    .dataframe thead th {\n",
              "        text-align: right;\n",
              "    }\n",
              "</style>\n",
              "<table border=\"1\" class=\"dataframe\">\n",
              "  <thead>\n",
              "    <tr style=\"text-align: right;\">\n",
              "      <th>Gender</th>\n",
              "      <th>Female</th>\n",
              "      <th>Male</th>\n",
              "    </tr>\n",
              "    <tr>\n",
              "      <th>Vehicle_Age</th>\n",
              "      <th></th>\n",
              "      <th></th>\n",
              "    </tr>\n",
              "  </thead>\n",
              "  <tbody>\n",
              "    <tr>\n",
              "      <th>1-2 Year</th>\n",
              "      <td>30762.245001</td>\n",
              "      <td>30413.088469</td>\n",
              "    </tr>\n",
              "    <tr>\n",
              "      <th>&lt; 1 Year</th>\n",
              "      <td>29972.286702</td>\n",
              "      <td>30310.982212</td>\n",
              "    </tr>\n",
              "    <tr>\n",
              "      <th>&gt; 2 Years</th>\n",
              "      <td>36108.366374</td>\n",
              "      <td>35303.870627</td>\n",
              "    </tr>\n",
              "  </tbody>\n",
              "</table>\n",
              "</div>"
            ],
            "text/plain": [
              "Gender             Female          Male\n",
              "Vehicle_Age                            \n",
              "1-2 Year     30762.245001  30413.088469\n",
              "< 1 Year     29972.286702  30310.982212\n",
              "> 2 Years    36108.366374  35303.870627"
            ]
          },
          "metadata": {},
          "execution_count": 51
        }
      ]
    },
    {
      "cell_type": "code",
      "metadata": {
        "colab": {
          "base_uri": "https://localhost:8080/",
          "height": 174
        },
        "id": "OoMZ-gfXGlT_",
        "outputId": "19cd5660-217d-4e25-9f3d-61d57d397f42"
      },
      "source": [
        "df.groupby(['Gender', 'Vehicle_Age'])['Annual_Premium'].mean().unstack(0)"
      ],
      "execution_count": 53,
      "outputs": [
        {
          "output_type": "execute_result",
          "data": {
            "text/html": [
              "<div>\n",
              "<style scoped>\n",
              "    .dataframe tbody tr th:only-of-type {\n",
              "        vertical-align: middle;\n",
              "    }\n",
              "\n",
              "    .dataframe tbody tr th {\n",
              "        vertical-align: top;\n",
              "    }\n",
              "\n",
              "    .dataframe thead th {\n",
              "        text-align: right;\n",
              "    }\n",
              "</style>\n",
              "<table border=\"1\" class=\"dataframe\">\n",
              "  <thead>\n",
              "    <tr style=\"text-align: right;\">\n",
              "      <th>Gender</th>\n",
              "      <th>Female</th>\n",
              "      <th>Male</th>\n",
              "    </tr>\n",
              "    <tr>\n",
              "      <th>Vehicle_Age</th>\n",
              "      <th></th>\n",
              "      <th></th>\n",
              "    </tr>\n",
              "  </thead>\n",
              "  <tbody>\n",
              "    <tr>\n",
              "      <th>1-2 Year</th>\n",
              "      <td>30762.245001</td>\n",
              "      <td>30413.088469</td>\n",
              "    </tr>\n",
              "    <tr>\n",
              "      <th>&lt; 1 Year</th>\n",
              "      <td>29972.286702</td>\n",
              "      <td>30310.982212</td>\n",
              "    </tr>\n",
              "    <tr>\n",
              "      <th>&gt; 2 Years</th>\n",
              "      <td>36108.366374</td>\n",
              "      <td>35303.870627</td>\n",
              "    </tr>\n",
              "  </tbody>\n",
              "</table>\n",
              "</div>"
            ],
            "text/plain": [
              "Gender             Female          Male\n",
              "Vehicle_Age                            \n",
              "1-2 Year     30762.245001  30413.088469\n",
              "< 1 Year     29972.286702  30310.982212\n",
              "> 2 Years    36108.366374  35303.870627"
            ]
          },
          "metadata": {},
          "execution_count": 53
        }
      ]
    },
    {
      "cell_type": "code",
      "metadata": {
        "id": "0BpoXhWsHBVp"
      },
      "source": [
        "trainData  = 'https://raw.githubusercontent.com/Datamanim/datarepo/main/heart/train.csv'\n",
        "testData  = 'https://raw.githubusercontent.com/Datamanim/datarepo/main/heart/test.csv'\n",
        "subData  = 'https://raw.githubusercontent.com/Datamanim/datarepo/main/heart/submission.csv'\n",
        "\n",
        "\n",
        "#데이터로드\n",
        "import pandas as pd\n",
        "\n",
        "train = pd.read_csv(trainData,index_col=0)\n",
        "test = pd.read_csv(testData,index_col=0)\n",
        "submission = pd.read_csv(subData,index_col=0)"
      ],
      "execution_count": 54,
      "outputs": []
    },
    {
      "cell_type": "code",
      "metadata": {
        "colab": {
          "base_uri": "https://localhost:8080/"
        },
        "id": "nZjvdcvTWwIb",
        "outputId": "99d1a8a3-fe8d-4d55-c2b0-562b9ca310f2"
      },
      "source": [
        "train.target.unique()"
      ],
      "execution_count": 60,
      "outputs": [
        {
          "output_type": "execute_result",
          "data": {
            "text/plain": [
              "array([0, 1])"
            ]
          },
          "metadata": {},
          "execution_count": 60
        }
      ]
    },
    {
      "cell_type": "code",
      "metadata": {
        "id": "4X9qBQ2HWy01"
      },
      "source": [
        "test.info()"
      ],
      "execution_count": null,
      "outputs": []
    },
    {
      "cell_type": "code",
      "metadata": {
        "id": "A57THZprXgHE"
      },
      "source": [
        "y_train = train['target']\n",
        "x_train = train.drop(columns = ['target'])"
      ],
      "execution_count": 63,
      "outputs": []
    },
    {
      "cell_type": "code",
      "metadata": {
        "id": "0TmahhbCW6Al"
      },
      "source": [
        "from sklearn.ensemble import RandomForestClassifier\n",
        "rf = RandomForestClassifier()\n",
        "rf.fit(x_train, y_train)\n",
        "pred = rf.predict(test)"
      ],
      "execution_count": 64,
      "outputs": []
    },
    {
      "cell_type": "code",
      "metadata": {
        "colab": {
          "base_uri": "https://localhost:8080/"
        },
        "id": "gWUNIqtIXzjz",
        "outputId": "83fc252e-106e-47fd-f130-41865b913c6c"
      },
      "source": [
        "pred"
      ],
      "execution_count": 65,
      "outputs": [
        {
          "output_type": "execute_result",
          "data": {
            "text/plain": [
              "array([1, 1, 1, 0, 0, 1, 0, 1, 1, 1, 0, 1, 1, 1, 0, 1, 1, 1, 1, 1, 0, 0,\n",
              "       0, 0, 0, 1, 1, 0, 1, 1, 1, 0, 1, 1, 1, 0, 0, 0, 1, 0, 1, 1, 0, 0,\n",
              "       1, 1, 0, 0, 0, 1, 1, 1, 0, 1, 1, 0, 1, 0, 1, 0, 1])"
            ]
          },
          "metadata": {},
          "execution_count": 65
        }
      ]
    },
    {
      "cell_type": "code",
      "metadata": {
        "colab": {
          "base_uri": "https://localhost:8080/"
        },
        "id": "axPNFxYeX0Zc",
        "outputId": "4f51aae0-5cf5-4675-c253-560a5f5409b3"
      },
      "source": [
        "pred.shape"
      ],
      "execution_count": 66,
      "outputs": [
        {
          "output_type": "execute_result",
          "data": {
            "text/plain": [
              "(61,)"
            ]
          },
          "metadata": {},
          "execution_count": 66
        }
      ]
    },
    {
      "cell_type": "code",
      "metadata": {
        "colab": {
          "base_uri": "https://localhost:8080/",
          "height": 423
        },
        "id": "Dwu44XvUYBZe",
        "outputId": "62afb2ac-2f11-45f1-d082-65320aef9e0b"
      },
      "source": [
        "sub = pd.DataFrame(pred)\n",
        "sub"
      ],
      "execution_count": 67,
      "outputs": [
        {
          "output_type": "execute_result",
          "data": {
            "text/html": [
              "<div>\n",
              "<style scoped>\n",
              "    .dataframe tbody tr th:only-of-type {\n",
              "        vertical-align: middle;\n",
              "    }\n",
              "\n",
              "    .dataframe tbody tr th {\n",
              "        vertical-align: top;\n",
              "    }\n",
              "\n",
              "    .dataframe thead th {\n",
              "        text-align: right;\n",
              "    }\n",
              "</style>\n",
              "<table border=\"1\" class=\"dataframe\">\n",
              "  <thead>\n",
              "    <tr style=\"text-align: right;\">\n",
              "      <th></th>\n",
              "      <th>0</th>\n",
              "    </tr>\n",
              "  </thead>\n",
              "  <tbody>\n",
              "    <tr>\n",
              "      <th>0</th>\n",
              "      <td>1</td>\n",
              "    </tr>\n",
              "    <tr>\n",
              "      <th>1</th>\n",
              "      <td>1</td>\n",
              "    </tr>\n",
              "    <tr>\n",
              "      <th>2</th>\n",
              "      <td>1</td>\n",
              "    </tr>\n",
              "    <tr>\n",
              "      <th>3</th>\n",
              "      <td>0</td>\n",
              "    </tr>\n",
              "    <tr>\n",
              "      <th>4</th>\n",
              "      <td>0</td>\n",
              "    </tr>\n",
              "    <tr>\n",
              "      <th>...</th>\n",
              "      <td>...</td>\n",
              "    </tr>\n",
              "    <tr>\n",
              "      <th>56</th>\n",
              "      <td>1</td>\n",
              "    </tr>\n",
              "    <tr>\n",
              "      <th>57</th>\n",
              "      <td>0</td>\n",
              "    </tr>\n",
              "    <tr>\n",
              "      <th>58</th>\n",
              "      <td>1</td>\n",
              "    </tr>\n",
              "    <tr>\n",
              "      <th>59</th>\n",
              "      <td>0</td>\n",
              "    </tr>\n",
              "    <tr>\n",
              "      <th>60</th>\n",
              "      <td>1</td>\n",
              "    </tr>\n",
              "  </tbody>\n",
              "</table>\n",
              "<p>61 rows × 1 columns</p>\n",
              "</div>"
            ],
            "text/plain": [
              "    0\n",
              "0   1\n",
              "1   1\n",
              "2   1\n",
              "3   0\n",
              "4   0\n",
              ".. ..\n",
              "56  1\n",
              "57  0\n",
              "58  1\n",
              "59  0\n",
              "60  1\n",
              "\n",
              "[61 rows x 1 columns]"
            ]
          },
          "metadata": {},
          "execution_count": 67
        }
      ]
    },
    {
      "cell_type": "code",
      "metadata": {
        "colab": {
          "base_uri": "https://localhost:8080/",
          "height": 423
        },
        "id": "I5QNT6tWYNYh",
        "outputId": "b0f4a8a4-0615-40c6-9342-bae844f6bff3"
      },
      "source": [
        "sub.columns = ['target']\n",
        "sub.to_csv('12124421.csv', index=False)\n",
        "df = pd.read_csv('12124421.csv')\n",
        "df"
      ],
      "execution_count": 69,
      "outputs": [
        {
          "output_type": "execute_result",
          "data": {
            "text/html": [
              "<div>\n",
              "<style scoped>\n",
              "    .dataframe tbody tr th:only-of-type {\n",
              "        vertical-align: middle;\n",
              "    }\n",
              "\n",
              "    .dataframe tbody tr th {\n",
              "        vertical-align: top;\n",
              "    }\n",
              "\n",
              "    .dataframe thead th {\n",
              "        text-align: right;\n",
              "    }\n",
              "</style>\n",
              "<table border=\"1\" class=\"dataframe\">\n",
              "  <thead>\n",
              "    <tr style=\"text-align: right;\">\n",
              "      <th></th>\n",
              "      <th>target</th>\n",
              "    </tr>\n",
              "  </thead>\n",
              "  <tbody>\n",
              "    <tr>\n",
              "      <th>0</th>\n",
              "      <td>1</td>\n",
              "    </tr>\n",
              "    <tr>\n",
              "      <th>1</th>\n",
              "      <td>1</td>\n",
              "    </tr>\n",
              "    <tr>\n",
              "      <th>2</th>\n",
              "      <td>1</td>\n",
              "    </tr>\n",
              "    <tr>\n",
              "      <th>3</th>\n",
              "      <td>0</td>\n",
              "    </tr>\n",
              "    <tr>\n",
              "      <th>4</th>\n",
              "      <td>0</td>\n",
              "    </tr>\n",
              "    <tr>\n",
              "      <th>...</th>\n",
              "      <td>...</td>\n",
              "    </tr>\n",
              "    <tr>\n",
              "      <th>56</th>\n",
              "      <td>1</td>\n",
              "    </tr>\n",
              "    <tr>\n",
              "      <th>57</th>\n",
              "      <td>0</td>\n",
              "    </tr>\n",
              "    <tr>\n",
              "      <th>58</th>\n",
              "      <td>1</td>\n",
              "    </tr>\n",
              "    <tr>\n",
              "      <th>59</th>\n",
              "      <td>0</td>\n",
              "    </tr>\n",
              "    <tr>\n",
              "      <th>60</th>\n",
              "      <td>1</td>\n",
              "    </tr>\n",
              "  </tbody>\n",
              "</table>\n",
              "<p>61 rows × 1 columns</p>\n",
              "</div>"
            ],
            "text/plain": [
              "    target\n",
              "0        1\n",
              "1        1\n",
              "2        1\n",
              "3        0\n",
              "4        0\n",
              "..     ...\n",
              "56       1\n",
              "57       0\n",
              "58       1\n",
              "59       0\n",
              "60       1\n",
              "\n",
              "[61 rows x 1 columns]"
            ]
          },
          "metadata": {},
          "execution_count": 69
        }
      ]
    },
    {
      "cell_type": "code",
      "metadata": {
        "id": "cjD5UsurYUsL"
      },
      "source": [
        "trainData  = 'https://raw.githubusercontent.com/Datamanim/datarepo/main/insurance/train.csv'\n",
        "testData  = 'https://raw.githubusercontent.com/Datamanim/datarepo/main/insurance/test.csv'\n",
        "subData  = 'https://raw.githubusercontent.com/Datamanim/datarepo/main/insurance/submission.csv'\n",
        "\n",
        "\n",
        "#데이터로드\n",
        "import pandas as pd\n",
        "\n",
        "train = pd.read_csv(trainData,index_col=0)\n",
        "test = pd.read_csv(testData,index_col=0)\n",
        "submission = pd.read_csv(subData,index_col=0)"
      ],
      "execution_count": 78,
      "outputs": []
    },
    {
      "cell_type": "code",
      "metadata": {
        "colab": {
          "base_uri": "https://localhost:8080/"
        },
        "id": "5uWdtC_EY7xz",
        "outputId": "0ff28aaf-6703-48cd-dda6-446c045e1676"
      },
      "source": [
        "train.info()"
      ],
      "execution_count": 71,
      "outputs": [
        {
          "output_type": "stream",
          "name": "stdout",
          "text": [
            "<class 'pandas.core.frame.DataFrame'>\n",
            "Int64Index: 304887 entries, 188957 to 127164\n",
            "Data columns (total 11 columns):\n",
            " #   Column                Non-Null Count   Dtype  \n",
            "---  ------                --------------   -----  \n",
            " 0   Gender                304887 non-null  object \n",
            " 1   Age                   304887 non-null  int64  \n",
            " 2   Driving_License       304887 non-null  int64  \n",
            " 3   Region_Code           304887 non-null  float64\n",
            " 4   Previously_Insured    304887 non-null  int64  \n",
            " 5   Vehicle_Age           304887 non-null  object \n",
            " 6   Vehicle_Damage        304887 non-null  object \n",
            " 7   Annual_Premium        304887 non-null  float64\n",
            " 8   Policy_Sales_Channel  304887 non-null  float64\n",
            " 9   Vintage               304887 non-null  int64  \n",
            " 10  Response              304887 non-null  int64  \n",
            "dtypes: float64(3), int64(5), object(3)\n",
            "memory usage: 27.9+ MB\n"
          ]
        }
      ]
    },
    {
      "cell_type": "code",
      "metadata": {
        "id": "FEzKsYpQZEu7"
      },
      "source": [
        "from sklearn.preprocessing import LabelEncoder\n",
        "\n",
        "lb = LabelEncoder()\n",
        "lb.fit(train.Vehicle_Age)\n",
        "\n",
        "train[\"Vehicle_Age\"] = lb.transform(train[\"Vehicle_Age\"])\n",
        "test[\"Vehicle_Age\"] = lb.transform(test[\"Vehicle_Age\"])\n",
        "\n",
        "lb2 = LabelEncoder()\n",
        "lb2.fit(train.Vehicle_Damage)\n",
        "\n",
        "train[\"Vehicle_Damage\"] = lb2.transform(train[\"Vehicle_Damage\"])\n",
        "test[\"Vehicle_Damage\"] = lb2.transform(test[\"Vehicle_Damage\"])\n",
        "\n",
        "lb3 = LabelEncoder()\n",
        "lb3.fit(train.Gender)\n",
        "\n",
        "train[\"Gender\"] = lb3.transform(train[\"Gender\"])\n",
        "test[\"Gender\"] = lb3.transform(test[\"Gender\"])"
      ],
      "execution_count": 79,
      "outputs": []
    },
    {
      "cell_type": "code",
      "metadata": {
        "id": "APmlnFtOaX0K"
      },
      "source": [
        "y_train = train['Response']\n",
        "x_train = train.drop(columns = [\"Response\"])"
      ],
      "execution_count": 80,
      "outputs": []
    },
    {
      "cell_type": "code",
      "metadata": {
        "colab": {
          "base_uri": "https://localhost:8080/"
        },
        "id": "aJ-94TU1Z1vM",
        "outputId": "15d54df0-6c58-4566-efc2-0c6f6565ebf5"
      },
      "source": [
        "from sklearn.ensemble import RandomForestClassifier\n",
        "\n",
        "rf = RandomForestClassifier()\n",
        "rf.fit(x_train, y_train)\n",
        "\n",
        "pred = rf.predict(test)\n",
        "pred"
      ],
      "execution_count": 81,
      "outputs": [
        {
          "output_type": "execute_result",
          "data": {
            "text/plain": [
              "array([0, 0, 0, ..., 0, 0, 0])"
            ]
          },
          "metadata": {},
          "execution_count": 81
        }
      ]
    },
    {
      "cell_type": "code",
      "metadata": {
        "colab": {
          "base_uri": "https://localhost:8080/"
        },
        "id": "xn9dwot2a1_i",
        "outputId": "b634bd1c-cb42-4095-de84-450542b90b15"
      },
      "source": [
        "pred.shape"
      ],
      "execution_count": 82,
      "outputs": [
        {
          "output_type": "execute_result",
          "data": {
            "text/plain": [
              "(76222,)"
            ]
          },
          "metadata": {},
          "execution_count": 82
        }
      ]
    },
    {
      "cell_type": "code",
      "metadata": {
        "colab": {
          "base_uri": "https://localhost:8080/"
        },
        "id": "bb5ShRgnbfJL",
        "outputId": "12a89fd9-6910-42bd-e3da-0bf8e14d3b0f"
      },
      "source": [
        "test.shape"
      ],
      "execution_count": 83,
      "outputs": [
        {
          "output_type": "execute_result",
          "data": {
            "text/plain": [
              "(76222, 10)"
            ]
          },
          "metadata": {},
          "execution_count": 83
        }
      ]
    },
    {
      "cell_type": "code",
      "metadata": {
        "colab": {
          "base_uri": "https://localhost:8080/"
        },
        "id": "hDxMaeGjbirB",
        "outputId": "68899eaf-70e5-4e61-9aef-249950180262"
      },
      "source": [
        "sub = pd.DataFrame(pred)\n",
        "sub.columns = ['Response']\n",
        "sub.to_csv('123123123.csv', index=False)\n",
        "df = pd.read_csv('123123123.csv')\n",
        "df.Response.value_counts()"
      ],
      "execution_count": 86,
      "outputs": [
        {
          "output_type": "execute_result",
          "data": {
            "text/plain": [
              "0    66828\n",
              "1     9394\n",
              "Name: Response, dtype: int64"
            ]
          },
          "metadata": {},
          "execution_count": 86
        }
      ]
    },
    {
      "cell_type": "code",
      "metadata": {
        "id": "d3k-w3lGb2x-"
      },
      "source": [
        "import pandas as pd\n",
        "\n",
        "df = pd.DataFrame({'rating': ['1', '2', '4', '*7', '8', '*7', '3', '5', '2', '*7']})\n",
        "# df['rating'].astype('int')   # 실행해서 발견 - ValueError: invalid literal for int() with base 10: '*7'"
      ],
      "execution_count": 94,
      "outputs": []
    },
    {
      "cell_type": "code",
      "metadata": {
        "colab": {
          "base_uri": "https://localhost:8080/"
        },
        "id": "0TtJw3N8llh1",
        "outputId": "1861f84c-7f0d-4f5b-caaa-800452b9c948"
      },
      "source": [
        "def change(x):\n",
        "  if x == \"*7\":\n",
        "    return 7\n",
        "  else:\n",
        "    return x\n",
        "\n",
        "\n",
        "df['rating'] = df['rating'].apply(change)\n",
        "df['rating'].astype('int')"
      ],
      "execution_count": 93,
      "outputs": [
        {
          "output_type": "execute_result",
          "data": {
            "text/plain": [
              "0    1\n",
              "1    2\n",
              "2    4\n",
              "3    7\n",
              "4    8\n",
              "5    7\n",
              "6    3\n",
              "7    5\n",
              "8    2\n",
              "9    7\n",
              "Name: rating, dtype: int64"
            ]
          },
          "metadata": {},
          "execution_count": 93
        }
      ]
    },
    {
      "cell_type": "code",
      "metadata": {
        "colab": {
          "base_uri": "https://localhost:8080/",
          "height": 363
        },
        "id": "4ms_DBFxmMPT",
        "outputId": "ecb811c2-cf1f-45b1-dd35-fe675b8b6755"
      },
      "source": [
        "df['rating'] = df['rating'].str.replace(\"*\", \"\")\n",
        "df"
      ],
      "execution_count": 95,
      "outputs": [
        {
          "output_type": "execute_result",
          "data": {
            "text/html": [
              "<div>\n",
              "<style scoped>\n",
              "    .dataframe tbody tr th:only-of-type {\n",
              "        vertical-align: middle;\n",
              "    }\n",
              "\n",
              "    .dataframe tbody tr th {\n",
              "        vertical-align: top;\n",
              "    }\n",
              "\n",
              "    .dataframe thead th {\n",
              "        text-align: right;\n",
              "    }\n",
              "</style>\n",
              "<table border=\"1\" class=\"dataframe\">\n",
              "  <thead>\n",
              "    <tr style=\"text-align: right;\">\n",
              "      <th></th>\n",
              "      <th>rating</th>\n",
              "    </tr>\n",
              "  </thead>\n",
              "  <tbody>\n",
              "    <tr>\n",
              "      <th>0</th>\n",
              "      <td>1</td>\n",
              "    </tr>\n",
              "    <tr>\n",
              "      <th>1</th>\n",
              "      <td>2</td>\n",
              "    </tr>\n",
              "    <tr>\n",
              "      <th>2</th>\n",
              "      <td>4</td>\n",
              "    </tr>\n",
              "    <tr>\n",
              "      <th>3</th>\n",
              "      <td>7</td>\n",
              "    </tr>\n",
              "    <tr>\n",
              "      <th>4</th>\n",
              "      <td>8</td>\n",
              "    </tr>\n",
              "    <tr>\n",
              "      <th>5</th>\n",
              "      <td>7</td>\n",
              "    </tr>\n",
              "    <tr>\n",
              "      <th>6</th>\n",
              "      <td>3</td>\n",
              "    </tr>\n",
              "    <tr>\n",
              "      <th>7</th>\n",
              "      <td>5</td>\n",
              "    </tr>\n",
              "    <tr>\n",
              "      <th>8</th>\n",
              "      <td>2</td>\n",
              "    </tr>\n",
              "    <tr>\n",
              "      <th>9</th>\n",
              "      <td>7</td>\n",
              "    </tr>\n",
              "  </tbody>\n",
              "</table>\n",
              "</div>"
            ],
            "text/plain": [
              "  rating\n",
              "0      1\n",
              "1      2\n",
              "2      4\n",
              "3      7\n",
              "4      8\n",
              "5      7\n",
              "6      3\n",
              "7      5\n",
              "8      2\n",
              "9      7"
            ]
          },
          "metadata": {},
          "execution_count": 95
        }
      ]
    },
    {
      "cell_type": "code",
      "metadata": {
        "colab": {
          "base_uri": "https://localhost:8080/"
        },
        "id": "O6pW_TcVmqcz",
        "outputId": "8160d6e2-7438-4ecd-91fa-73a788c28f2c"
      },
      "source": [
        "df.isna().sum()"
      ],
      "execution_count": 96,
      "outputs": [
        {
          "output_type": "execute_result",
          "data": {
            "text/plain": [
              "rating    0\n",
              "dtype: int64"
            ]
          },
          "metadata": {},
          "execution_count": 96
        }
      ]
    },
    {
      "cell_type": "code",
      "metadata": {
        "id": "4bIRgIjdp8bD"
      },
      "source": [
        "import pandas as pd\n",
        "df = pd.read_csv(\"https://raw.githubusercontent.com/Datamanim/datarepo/main/admission/train.csv\")"
      ],
      "execution_count": 97,
      "outputs": []
    },
    {
      "cell_type": "code",
      "metadata": {
        "colab": {
          "base_uri": "https://localhost:8080/",
          "height": 269
        },
        "id": "Gr4qGl0wsZJD",
        "outputId": "0404e545-9c67-4253-ca3b-16ac89efe9d8"
      },
      "source": [
        "from sklearn.ensemble import RandomForestRegressor\n",
        "\n",
        "df_t = df.drop([df.columns[0]],axis=1)\n",
        "x = df_t.drop([df.columns[-1]],axis=1)\n",
        "y = df_t[df.columns[-1]]\n",
        "\n",
        "ml = RandomForestRegressor()\n",
        "\n",
        "ml.fit(x,y)\n",
        "\n",
        "pd.DataFrame({'feature_importance':ml.feature_importances_}, x.columns).sort_values('feature_importance',ascending=False)"
      ],
      "execution_count": 102,
      "outputs": [
        {
          "output_type": "execute_result",
          "data": {
            "text/html": [
              "<div>\n",
              "<style scoped>\n",
              "    .dataframe tbody tr th:only-of-type {\n",
              "        vertical-align: middle;\n",
              "    }\n",
              "\n",
              "    .dataframe tbody tr th {\n",
              "        vertical-align: top;\n",
              "    }\n",
              "\n",
              "    .dataframe thead th {\n",
              "        text-align: right;\n",
              "    }\n",
              "</style>\n",
              "<table border=\"1\" class=\"dataframe\">\n",
              "  <thead>\n",
              "    <tr style=\"text-align: right;\">\n",
              "      <th></th>\n",
              "      <th>feature_importance</th>\n",
              "    </tr>\n",
              "  </thead>\n",
              "  <tbody>\n",
              "    <tr>\n",
              "      <th>CGPA</th>\n",
              "      <td>0.814081</td>\n",
              "    </tr>\n",
              "    <tr>\n",
              "      <th>GRE Score</th>\n",
              "      <td>0.083714</td>\n",
              "    </tr>\n",
              "    <tr>\n",
              "      <th>TOEFL Score</th>\n",
              "      <td>0.032601</td>\n",
              "    </tr>\n",
              "    <tr>\n",
              "      <th>LOR</th>\n",
              "      <td>0.024429</td>\n",
              "    </tr>\n",
              "    <tr>\n",
              "      <th>SOP</th>\n",
              "      <td>0.023880</td>\n",
              "    </tr>\n",
              "    <tr>\n",
              "      <th>University Rating</th>\n",
              "      <td>0.013982</td>\n",
              "    </tr>\n",
              "    <tr>\n",
              "      <th>Research</th>\n",
              "      <td>0.007314</td>\n",
              "    </tr>\n",
              "  </tbody>\n",
              "</table>\n",
              "</div>"
            ],
            "text/plain": [
              "                   feature_importance\n",
              "CGPA                         0.814081\n",
              "GRE Score                    0.083714\n",
              "TOEFL Score                  0.032601\n",
              "LOR                          0.024429\n",
              "SOP                          0.023880\n",
              "University Rating            0.013982\n",
              "Research                     0.007314"
            ]
          },
          "metadata": {},
          "execution_count": 102
        }
      ]
    },
    {
      "cell_type": "code",
      "metadata": {
        "colab": {
          "base_uri": "https://localhost:8080/",
          "height": 269
        },
        "id": "-Eg8vunasv9Y",
        "outputId": "9c0d980a-dfb0-4d67-f3cb-3ad229e6acbe"
      },
      "source": [
        "pd.DataFrame({'importance':ml.feature_importances_},x.columns).sort_values('importance',ascending=False)"
      ],
      "execution_count": 104,
      "outputs": [
        {
          "output_type": "execute_result",
          "data": {
            "text/html": [
              "<div>\n",
              "<style scoped>\n",
              "    .dataframe tbody tr th:only-of-type {\n",
              "        vertical-align: middle;\n",
              "    }\n",
              "\n",
              "    .dataframe tbody tr th {\n",
              "        vertical-align: top;\n",
              "    }\n",
              "\n",
              "    .dataframe thead th {\n",
              "        text-align: right;\n",
              "    }\n",
              "</style>\n",
              "<table border=\"1\" class=\"dataframe\">\n",
              "  <thead>\n",
              "    <tr style=\"text-align: right;\">\n",
              "      <th></th>\n",
              "      <th>importance</th>\n",
              "    </tr>\n",
              "  </thead>\n",
              "  <tbody>\n",
              "    <tr>\n",
              "      <th>CGPA</th>\n",
              "      <td>0.814081</td>\n",
              "    </tr>\n",
              "    <tr>\n",
              "      <th>GRE Score</th>\n",
              "      <td>0.083714</td>\n",
              "    </tr>\n",
              "    <tr>\n",
              "      <th>TOEFL Score</th>\n",
              "      <td>0.032601</td>\n",
              "    </tr>\n",
              "    <tr>\n",
              "      <th>LOR</th>\n",
              "      <td>0.024429</td>\n",
              "    </tr>\n",
              "    <tr>\n",
              "      <th>SOP</th>\n",
              "      <td>0.023880</td>\n",
              "    </tr>\n",
              "    <tr>\n",
              "      <th>University Rating</th>\n",
              "      <td>0.013982</td>\n",
              "    </tr>\n",
              "    <tr>\n",
              "      <th>Research</th>\n",
              "      <td>0.007314</td>\n",
              "    </tr>\n",
              "  </tbody>\n",
              "</table>\n",
              "</div>"
            ],
            "text/plain": [
              "                   importance\n",
              "CGPA                 0.814081\n",
              "GRE Score            0.083714\n",
              "TOEFL Score          0.032601\n",
              "LOR                  0.024429\n",
              "SOP                  0.023880\n",
              "University Rating    0.013982\n",
              "Research             0.007314"
            ]
          },
          "metadata": {},
          "execution_count": 104
        }
      ]
    },
    {
      "cell_type": "code",
      "metadata": {
        "id": "SRBArSIdtUZ0"
      },
      "source": [
        ""
      ],
      "execution_count": null,
      "outputs": []
    }
  ]
}