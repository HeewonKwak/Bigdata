{
  "nbformat": 4,
  "nbformat_minor": 0,
  "metadata": {
    "colab": {
      "name": "빅분기_작업_2.ipynb",
      "provenance": [],
      "authorship_tag": "ABX9TyNAErDz4G4urqp8QZbOO7eG",
      "include_colab_link": true
    },
    "kernelspec": {
      "name": "python3",
      "display_name": "Python 3"
    },
    "language_info": {
      "name": "python"
    }
  },
  "cells": [
    {
      "cell_type": "markdown",
      "metadata": {
        "id": "view-in-github",
        "colab_type": "text"
      },
      "source": [
        "<a href=\"https://colab.research.google.com/github/HeewonKwak/Bigdata/blob/main/%EB%B9%85%EB%B6%84%EA%B8%B0_%EC%9E%91%EC%97%85_2.ipynb\" target=\"_parent\"><img src=\"https://colab.research.google.com/assets/colab-badge.svg\" alt=\"Open In Colab\"/></a>"
      ]
    },
    {
      "cell_type": "code",
      "metadata": {
        "id": "oFHiIc0jVlZJ"
      },
      "source": [
        "# 출력을 원하실 경우 print() 함수 활용\n",
        "# 예시) print(df.head())\n",
        "\n",
        "# getcwd(), chdir() 등 작업 폴더 설정 불필요\n",
        "# 파일 경로 상 내부 드라이브 경로(C: 등) 접근 불가\n",
        "\n",
        "# 데이터 파일 읽기 예제\n",
        "import pandas as pd\n",
        "X_test = pd.read_csv(\"data/X_test.csv\")\n",
        "X_train = pd.read_csv(\"data/X_train.csv\")\n",
        "y_train = pd.read_csv(\"data/y_train.csv\")\n",
        "y = y_train['gender']\n",
        "\n",
        "# 사용자 코딩\n",
        "# print(X_train.info())\n",
        "drop_col = ['cust_id', '환불금액']\n",
        "X_train_drop = X_train.drop(columns = drop_col)\n",
        "X_test_drop = X_test.drop(columns = drop_col)\n",
        "\n",
        "from sklearn.preprocessing import LabelEncoder\n",
        "le = LabelEncoder()\n",
        "le.fit(X_train_drop['주구매상품'])\n",
        "X_train_drop['주구매상품'] = le.transform(X_train_drop['주구매상품'])\n",
        "X_test_drop['주구매상품'] = le.transform(X_test_drop['주구매상품'])\n",
        "\n",
        "le1 = LabelEncoder()\n",
        "le1.fit(X_train_drop['주구매지점'])\n",
        "X_train_drop['주구매지점'] = le1.transform(X_train_drop['주구매지점'])\n",
        "X_test_drop['주구매지점'] = le1.transform(X_test_drop['주구매지점'])\n",
        "\n",
        "# print(X_train_drop.head())\n",
        "\n",
        "from sklearn.model_selection import train_test_split\n",
        "\n",
        "# print(help(train_test_split))\n",
        "Xtrain, Xtest, ytrain, ytest = train_test_split(X_train_drop, y, test_size=0.33, random_state=42, stratify = y)\n",
        "\n",
        "from sklearn.ensemble import RandomForestClassifier\n",
        "# print(help(RandomForestClassifier))\n",
        "rf = RandomForestClassifier()\n",
        "rf.fit(Xtrain, ytrain)\n",
        "\n",
        "# print(dir(RandomForestClassifier))\n",
        "\n",
        "pred = rf.predict_proba(Xtest)[:,1]\n",
        "# print(pred)\n",
        "\n",
        "from sklearn.metrics import roc_auc_score\n",
        "# print(roc_auc_score(ytest, pred))\n",
        "\n",
        "sub_cust_id = X_test['cust_id']\n",
        "sub_pred = pd.DataFrame(rf.predict_proba(X_test_drop)[:,1])\n",
        "\n",
        "sub = pd.concat([sub_cust_id, sub_pred], axis=1)\n",
        "sub.columns = ['cust_id', 'gender']\n",
        "# print(sub)\n",
        "sub.to_csv('003000000.csv', index=False)\n",
        "\n",
        "df = pd.read_csv('003000000.csv')\n",
        "print(df)\n",
        "\n",
        "# 답안 제출 참고\n",
        "# 아래 코드 예측변수와 수험번호를 개인별로 변경하여 활용\n",
        "# pd.DataFrame({'cust_id': X_test.cust_id, 'gender': pred}).to_csv('003000000.csv', index=False)\n"
      ],
      "execution_count": null,
      "outputs": []
    }
  ]
}